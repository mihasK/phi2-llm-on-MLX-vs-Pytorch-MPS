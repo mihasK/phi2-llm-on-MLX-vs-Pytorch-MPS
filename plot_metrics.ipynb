{
 "cells": [
  {
   "cell_type": "code",
   "execution_count": 14,
   "metadata": {},
   "outputs": [],
   "source": [
    "from asitop.utils import parse_gpu_metrics, parse_powermetrics, run_powermetrics_process, parse_cpu_metrics"
   ]
  },
  {
   "cell_type": "code",
   "execution_count": 15,
   "metadata": {},
   "outputs": [
    {
     "data": {
      "text/plain": [
       "{'freq_MHz': 388, 'active': 3}"
      ]
     },
     "execution_count": 15,
     "metadata": {},
     "output_type": "execute_result"
    }
   ],
   "source": [
    "cpu_metrics_dict, gpu_metrics_dict, thermal_pressure, bandwidth_metrics, timestamp = parse_powermetrics('powermetrics.txt', timecode='')\n",
    "gpu_metrics_dict"
   ]
  },
  {
   "cell_type": "code",
   "execution_count": 16,
   "metadata": {},
   "outputs": [
    {
     "data": {
      "text/html": [
       "<div>\n",
       "<style scoped>\n",
       "    .dataframe tbody tr th:only-of-type {\n",
       "        vertical-align: middle;\n",
       "    }\n",
       "\n",
       "    .dataframe tbody tr th {\n",
       "        vertical-align: top;\n",
       "    }\n",
       "\n",
       "    .dataframe thead th {\n",
       "        text-align: right;\n",
       "    }\n",
       "</style>\n",
       "<table border=\"1\" class=\"dataframe\">\n",
       "  <thead>\n",
       "    <tr style=\"text-align: right;\">\n",
       "      <th></th>\n",
       "      <th>GPU_freq_MHz</th>\n",
       "      <th>GPU_active</th>\n",
       "      <th>E-Cluster_freq_Mhz</th>\n",
       "      <th>E-Cluster_active</th>\n",
       "      <th>E-Cluster0_freq_Mhz</th>\n",
       "      <th>E-Cluster0_active</th>\n",
       "      <th>E-Cluster1_freq_Mhz</th>\n",
       "      <th>E-Cluster1_active</th>\n",
       "      <th>P0-Cluster_freq_Mhz</th>\n",
       "      <th>P0-Cluster_active</th>\n",
       "      <th>...</th>\n",
       "      <th>P-Cluster9_freq_Mhz</th>\n",
       "      <th>P-Cluster9_active</th>\n",
       "      <th>e_core</th>\n",
       "      <th>p_core</th>\n",
       "      <th>P-Cluster_active</th>\n",
       "      <th>P-Cluster_freq_Mhz</th>\n",
       "      <th>ane_W</th>\n",
       "      <th>cpu_W</th>\n",
       "      <th>gpu_W</th>\n",
       "      <th>package_W</th>\n",
       "    </tr>\n",
       "  </thead>\n",
       "  <tbody>\n",
       "    <tr>\n",
       "      <th>0</th>\n",
       "      <td>432</td>\n",
       "      <td>6</td>\n",
       "      <td>1344</td>\n",
       "      <td>49</td>\n",
       "      <td>1424</td>\n",
       "      <td>38</td>\n",
       "      <td>1425</td>\n",
       "      <td>37</td>\n",
       "      <td>1192</td>\n",
       "      <td>29</td>\n",
       "      <td>...</td>\n",
       "      <td>1902</td>\n",
       "      <td>0</td>\n",
       "      <td>[0, 1]</td>\n",
       "      <td>[2, 3, 4, 5, 6, 7, 8, 9]</td>\n",
       "      <td>23</td>\n",
       "      <td>1192</td>\n",
       "      <td>0.0</td>\n",
       "      <td>0.595</td>\n",
       "      <td>0.039</td>\n",
       "      <td>0.628634</td>\n",
       "    </tr>\n",
       "    <tr>\n",
       "      <th>1</th>\n",
       "      <td>752</td>\n",
       "      <td>39</td>\n",
       "      <td>1545</td>\n",
       "      <td>56</td>\n",
       "      <td>1645</td>\n",
       "      <td>44</td>\n",
       "      <td>1649</td>\n",
       "      <td>44</td>\n",
       "      <td>1971</td>\n",
       "      <td>59</td>\n",
       "      <td>...</td>\n",
       "      <td>2897</td>\n",
       "      <td>3</td>\n",
       "      <td>[0, 1]</td>\n",
       "      <td>[2, 3, 4, 5, 6, 7, 8, 9]</td>\n",
       "      <td>42</td>\n",
       "      <td>1971</td>\n",
       "      <td>0.0</td>\n",
       "      <td>3.247</td>\n",
       "      <td>1.870</td>\n",
       "      <td>4.953540</td>\n",
       "    </tr>\n",
       "    <tr>\n",
       "      <th>2</th>\n",
       "      <td>389</td>\n",
       "      <td>95</td>\n",
       "      <td>1530</td>\n",
       "      <td>54</td>\n",
       "      <td>1543</td>\n",
       "      <td>43</td>\n",
       "      <td>1553</td>\n",
       "      <td>42</td>\n",
       "      <td>3206</td>\n",
       "      <td>77</td>\n",
       "      <td>...</td>\n",
       "      <td>2919</td>\n",
       "      <td>0</td>\n",
       "      <td>[0, 1]</td>\n",
       "      <td>[2, 3, 4, 5, 6, 7, 8, 9]</td>\n",
       "      <td>58</td>\n",
       "      <td>3206</td>\n",
       "      <td>0.0</td>\n",
       "      <td>4.671</td>\n",
       "      <td>1.509</td>\n",
       "      <td>6.039180</td>\n",
       "    </tr>\n",
       "    <tr>\n",
       "      <th>3</th>\n",
       "      <td>388</td>\n",
       "      <td>95</td>\n",
       "      <td>1404</td>\n",
       "      <td>63</td>\n",
       "      <td>1459</td>\n",
       "      <td>51</td>\n",
       "      <td>1450</td>\n",
       "      <td>51</td>\n",
       "      <td>3206</td>\n",
       "      <td>71</td>\n",
       "      <td>...</td>\n",
       "      <td>2624</td>\n",
       "      <td>0</td>\n",
       "      <td>[0, 1]</td>\n",
       "      <td>[2, 3, 4, 5, 6, 7, 8, 9]</td>\n",
       "      <td>60</td>\n",
       "      <td>3206</td>\n",
       "      <td>0.0</td>\n",
       "      <td>4.669</td>\n",
       "      <td>1.519</td>\n",
       "      <td>6.049740</td>\n",
       "    </tr>\n",
       "    <tr>\n",
       "      <th>4</th>\n",
       "      <td>388</td>\n",
       "      <td>96</td>\n",
       "      <td>1412</td>\n",
       "      <td>63</td>\n",
       "      <td>1455</td>\n",
       "      <td>50</td>\n",
       "      <td>1483</td>\n",
       "      <td>48</td>\n",
       "      <td>3207</td>\n",
       "      <td>69</td>\n",
       "      <td>...</td>\n",
       "      <td>3228</td>\n",
       "      <td>0</td>\n",
       "      <td>[0, 1]</td>\n",
       "      <td>[2, 3, 4, 5, 6, 7, 8, 9]</td>\n",
       "      <td>59</td>\n",
       "      <td>3207</td>\n",
       "      <td>0.0</td>\n",
       "      <td>4.658</td>\n",
       "      <td>1.562</td>\n",
       "      <td>6.082630</td>\n",
       "    </tr>\n",
       "  </tbody>\n",
       "</table>\n",
       "<p>5 rows × 36 columns</p>\n",
       "</div>"
      ],
      "text/plain": [
       "   GPU_freq_MHz  GPU_active  E-Cluster_freq_Mhz  E-Cluster_active  \\\n",
       "0           432           6                1344                49   \n",
       "1           752          39                1545                56   \n",
       "2           389          95                1530                54   \n",
       "3           388          95                1404                63   \n",
       "4           388          96                1412                63   \n",
       "\n",
       "   E-Cluster0_freq_Mhz  E-Cluster0_active  E-Cluster1_freq_Mhz  \\\n",
       "0                 1424                 38                 1425   \n",
       "1                 1645                 44                 1649   \n",
       "2                 1543                 43                 1553   \n",
       "3                 1459                 51                 1450   \n",
       "4                 1455                 50                 1483   \n",
       "\n",
       "   E-Cluster1_active  P0-Cluster_freq_Mhz  P0-Cluster_active  ...  \\\n",
       "0                 37                 1192                 29  ...   \n",
       "1                 44                 1971                 59  ...   \n",
       "2                 42                 3206                 77  ...   \n",
       "3                 51                 3206                 71  ...   \n",
       "4                 48                 3207                 69  ...   \n",
       "\n",
       "   P-Cluster9_freq_Mhz  P-Cluster9_active  e_core                    p_core  \\\n",
       "0                 1902                  0  [0, 1]  [2, 3, 4, 5, 6, 7, 8, 9]   \n",
       "1                 2897                  3  [0, 1]  [2, 3, 4, 5, 6, 7, 8, 9]   \n",
       "2                 2919                  0  [0, 1]  [2, 3, 4, 5, 6, 7, 8, 9]   \n",
       "3                 2624                  0  [0, 1]  [2, 3, 4, 5, 6, 7, 8, 9]   \n",
       "4                 3228                  0  [0, 1]  [2, 3, 4, 5, 6, 7, 8, 9]   \n",
       "\n",
       "   P-Cluster_active  P-Cluster_freq_Mhz  ane_W  cpu_W  gpu_W  package_W  \n",
       "0                23                1192    0.0  0.595  0.039   0.628634  \n",
       "1                42                1971    0.0  3.247  1.870   4.953540  \n",
       "2                58                3206    0.0  4.671  1.509   6.039180  \n",
       "3                60                3206    0.0  4.669  1.519   6.049740  \n",
       "4                59                3207    0.0  4.658  1.562   6.082630  \n",
       "\n",
       "[5 rows x 36 columns]"
      ]
     },
     "execution_count": 16,
     "metadata": {},
     "output_type": "execute_result"
    }
   ],
   "source": [
    "import plistlib\n",
    "import pandas as pd\n",
    "\n",
    "with open('powermetrics.txt', 'rb') as fp:\n",
    "    data = fp.read()\n",
    "\n",
    "metrics_list = []    \n",
    "for d in data.split(b'\\x00'):\n",
    "    d = plistlib.loads(d)\n",
    "    \n",
    "    cpu_m = parse_cpu_metrics(d)\n",
    "\n",
    "    metrics_list.append({\n",
    "        \"GPU_freq_MHz\": int(d['gpu'][\"freq_hz\"]),\n",
    "        \"GPU_active\": int((1 - d['gpu'][\"idle_ratio\"])*100),\n",
    "        **cpu_m\n",
    "        \n",
    "    })\n",
    "\n",
    "df = pd.DataFrame(metrics_list)\n",
    "df.head()"
   ]
  },
  {
   "cell_type": "code",
   "execution_count": 17,
   "metadata": {},
   "outputs": [
    {
     "data": {
      "text/plain": [
       "Index(['GPU_freq_MHz', 'GPU_active', 'E-Cluster_freq_Mhz', 'E-Cluster_active',\n",
       "       'E-Cluster0_freq_Mhz', 'E-Cluster0_active', 'E-Cluster1_freq_Mhz',\n",
       "       'E-Cluster1_active', 'P0-Cluster_freq_Mhz', 'P0-Cluster_active',\n",
       "       'P-Cluster2_freq_Mhz', 'P-Cluster2_active', 'P-Cluster3_freq_Mhz',\n",
       "       'P-Cluster3_active', 'P-Cluster4_freq_Mhz', 'P-Cluster4_active',\n",
       "       'P-Cluster5_freq_Mhz', 'P-Cluster5_active', 'P1-Cluster_freq_Mhz',\n",
       "       'P1-Cluster_active', 'P-Cluster6_freq_Mhz', 'P-Cluster6_active',\n",
       "       'P-Cluster7_freq_Mhz', 'P-Cluster7_active', 'P-Cluster8_freq_Mhz',\n",
       "       'P-Cluster8_active', 'P-Cluster9_freq_Mhz', 'P-Cluster9_active',\n",
       "       'e_core', 'p_core', 'P-Cluster_active', 'P-Cluster_freq_Mhz', 'ane_W',\n",
       "       'cpu_W', 'gpu_W', 'package_W'],\n",
       "      dtype='object')"
      ]
     },
     "execution_count": 17,
     "metadata": {},
     "output_type": "execute_result"
    }
   ],
   "source": [
    "df.columns"
   ]
  },
  {
   "cell_type": "code",
   "execution_count": 18,
   "metadata": {},
   "outputs": [
    {
     "data": {
      "application/vnd.plotly.v1+json": {
       "config": {
        "plotlyServerURL": "https://plot.ly"
       },
       "data": [
        {
         "mode": "lines",
         "name": "CPU P-Cluster %",
         "type": "scatter",
         "x": [
          0,
          1,
          2,
          3,
          4,
          5,
          6,
          7,
          8,
          9,
          10,
          11,
          12,
          13,
          14,
          15,
          16,
          17,
          18,
          19,
          20,
          21,
          22,
          23,
          24
         ],
         "xaxis": "x",
         "y": [
          23,
          42,
          58,
          60,
          59,
          58,
          58,
          60,
          58,
          57,
          59,
          60,
          56,
          56,
          59,
          58,
          58,
          59,
          57,
          61,
          56,
          49,
          15,
          25,
          11
         ],
         "yaxis": "y"
        },
        {
         "mode": "lines",
         "name": "CPU E-Cluster %",
         "type": "scatter",
         "x": [
          0,
          1,
          2,
          3,
          4,
          5,
          6,
          7,
          8,
          9,
          10,
          11,
          12,
          13,
          14,
          15,
          16,
          17,
          18,
          19,
          20,
          21,
          22,
          23,
          24
         ],
         "xaxis": "x",
         "y": [
          49,
          56,
          54,
          63,
          63,
          55,
          57,
          61,
          59,
          52,
          61,
          57,
          53,
          49,
          56,
          53,
          53,
          52,
          53,
          52,
          54,
          57,
          38,
          48,
          56
         ],
         "yaxis": "y"
        },
        {
         "mode": "lines",
         "name": "Active GPU %",
         "type": "scatter",
         "x": [
          0,
          1,
          2,
          3,
          4,
          5,
          6,
          7,
          8,
          9,
          10,
          11,
          12,
          13,
          14,
          15,
          16,
          17,
          18,
          19,
          20,
          21,
          22,
          23,
          24
         ],
         "xaxis": "x",
         "y": [
          6,
          39,
          95,
          95,
          96,
          96,
          94,
          95,
          96,
          95,
          95,
          95,
          96,
          96,
          96,
          95,
          96,
          96,
          97,
          95,
          97,
          71,
          3,
          8,
          3
         ],
         "yaxis": "y"
        },
        {
         "mode": "lines",
         "name": "GPU freq (MHz)",
         "type": "scatter",
         "x": [
          0,
          1,
          2,
          3,
          4,
          5,
          6,
          7,
          8,
          9,
          10,
          11,
          12,
          13,
          14,
          15,
          16,
          17,
          18,
          19,
          20,
          21,
          22,
          23,
          24
         ],
         "xaxis": "x2",
         "y": [
          432,
          752,
          389,
          388,
          388,
          388,
          388,
          388,
          388,
          388,
          388,
          388,
          388,
          388,
          388,
          388,
          388,
          389,
          388,
          388,
          388,
          388,
          439,
          388,
          388
         ],
         "yaxis": "y2"
        }
       ],
       "layout": {
        "height": 400,
        "template": {
         "data": {
          "bar": [
           {
            "error_x": {
             "color": "#2a3f5f"
            },
            "error_y": {
             "color": "#2a3f5f"
            },
            "marker": {
             "line": {
              "color": "#E5ECF6",
              "width": 0.5
             },
             "pattern": {
              "fillmode": "overlay",
              "size": 10,
              "solidity": 0.2
             }
            },
            "type": "bar"
           }
          ],
          "barpolar": [
           {
            "marker": {
             "line": {
              "color": "#E5ECF6",
              "width": 0.5
             },
             "pattern": {
              "fillmode": "overlay",
              "size": 10,
              "solidity": 0.2
             }
            },
            "type": "barpolar"
           }
          ],
          "carpet": [
           {
            "aaxis": {
             "endlinecolor": "#2a3f5f",
             "gridcolor": "white",
             "linecolor": "white",
             "minorgridcolor": "white",
             "startlinecolor": "#2a3f5f"
            },
            "baxis": {
             "endlinecolor": "#2a3f5f",
             "gridcolor": "white",
             "linecolor": "white",
             "minorgridcolor": "white",
             "startlinecolor": "#2a3f5f"
            },
            "type": "carpet"
           }
          ],
          "choropleth": [
           {
            "colorbar": {
             "outlinewidth": 0,
             "ticks": ""
            },
            "type": "choropleth"
           }
          ],
          "contour": [
           {
            "colorbar": {
             "outlinewidth": 0,
             "ticks": ""
            },
            "colorscale": [
             [
              0,
              "#0d0887"
             ],
             [
              0.1111111111111111,
              "#46039f"
             ],
             [
              0.2222222222222222,
              "#7201a8"
             ],
             [
              0.3333333333333333,
              "#9c179e"
             ],
             [
              0.4444444444444444,
              "#bd3786"
             ],
             [
              0.5555555555555556,
              "#d8576b"
             ],
             [
              0.6666666666666666,
              "#ed7953"
             ],
             [
              0.7777777777777778,
              "#fb9f3a"
             ],
             [
              0.8888888888888888,
              "#fdca26"
             ],
             [
              1,
              "#f0f921"
             ]
            ],
            "type": "contour"
           }
          ],
          "contourcarpet": [
           {
            "colorbar": {
             "outlinewidth": 0,
             "ticks": ""
            },
            "type": "contourcarpet"
           }
          ],
          "heatmap": [
           {
            "colorbar": {
             "outlinewidth": 0,
             "ticks": ""
            },
            "colorscale": [
             [
              0,
              "#0d0887"
             ],
             [
              0.1111111111111111,
              "#46039f"
             ],
             [
              0.2222222222222222,
              "#7201a8"
             ],
             [
              0.3333333333333333,
              "#9c179e"
             ],
             [
              0.4444444444444444,
              "#bd3786"
             ],
             [
              0.5555555555555556,
              "#d8576b"
             ],
             [
              0.6666666666666666,
              "#ed7953"
             ],
             [
              0.7777777777777778,
              "#fb9f3a"
             ],
             [
              0.8888888888888888,
              "#fdca26"
             ],
             [
              1,
              "#f0f921"
             ]
            ],
            "type": "heatmap"
           }
          ],
          "heatmapgl": [
           {
            "colorbar": {
             "outlinewidth": 0,
             "ticks": ""
            },
            "colorscale": [
             [
              0,
              "#0d0887"
             ],
             [
              0.1111111111111111,
              "#46039f"
             ],
             [
              0.2222222222222222,
              "#7201a8"
             ],
             [
              0.3333333333333333,
              "#9c179e"
             ],
             [
              0.4444444444444444,
              "#bd3786"
             ],
             [
              0.5555555555555556,
              "#d8576b"
             ],
             [
              0.6666666666666666,
              "#ed7953"
             ],
             [
              0.7777777777777778,
              "#fb9f3a"
             ],
             [
              0.8888888888888888,
              "#fdca26"
             ],
             [
              1,
              "#f0f921"
             ]
            ],
            "type": "heatmapgl"
           }
          ],
          "histogram": [
           {
            "marker": {
             "pattern": {
              "fillmode": "overlay",
              "size": 10,
              "solidity": 0.2
             }
            },
            "type": "histogram"
           }
          ],
          "histogram2d": [
           {
            "colorbar": {
             "outlinewidth": 0,
             "ticks": ""
            },
            "colorscale": [
             [
              0,
              "#0d0887"
             ],
             [
              0.1111111111111111,
              "#46039f"
             ],
             [
              0.2222222222222222,
              "#7201a8"
             ],
             [
              0.3333333333333333,
              "#9c179e"
             ],
             [
              0.4444444444444444,
              "#bd3786"
             ],
             [
              0.5555555555555556,
              "#d8576b"
             ],
             [
              0.6666666666666666,
              "#ed7953"
             ],
             [
              0.7777777777777778,
              "#fb9f3a"
             ],
             [
              0.8888888888888888,
              "#fdca26"
             ],
             [
              1,
              "#f0f921"
             ]
            ],
            "type": "histogram2d"
           }
          ],
          "histogram2dcontour": [
           {
            "colorbar": {
             "outlinewidth": 0,
             "ticks": ""
            },
            "colorscale": [
             [
              0,
              "#0d0887"
             ],
             [
              0.1111111111111111,
              "#46039f"
             ],
             [
              0.2222222222222222,
              "#7201a8"
             ],
             [
              0.3333333333333333,
              "#9c179e"
             ],
             [
              0.4444444444444444,
              "#bd3786"
             ],
             [
              0.5555555555555556,
              "#d8576b"
             ],
             [
              0.6666666666666666,
              "#ed7953"
             ],
             [
              0.7777777777777778,
              "#fb9f3a"
             ],
             [
              0.8888888888888888,
              "#fdca26"
             ],
             [
              1,
              "#f0f921"
             ]
            ],
            "type": "histogram2dcontour"
           }
          ],
          "mesh3d": [
           {
            "colorbar": {
             "outlinewidth": 0,
             "ticks": ""
            },
            "type": "mesh3d"
           }
          ],
          "parcoords": [
           {
            "line": {
             "colorbar": {
              "outlinewidth": 0,
              "ticks": ""
             }
            },
            "type": "parcoords"
           }
          ],
          "pie": [
           {
            "automargin": true,
            "type": "pie"
           }
          ],
          "scatter": [
           {
            "fillpattern": {
             "fillmode": "overlay",
             "size": 10,
             "solidity": 0.2
            },
            "type": "scatter"
           }
          ],
          "scatter3d": [
           {
            "line": {
             "colorbar": {
              "outlinewidth": 0,
              "ticks": ""
             }
            },
            "marker": {
             "colorbar": {
              "outlinewidth": 0,
              "ticks": ""
             }
            },
            "type": "scatter3d"
           }
          ],
          "scattercarpet": [
           {
            "marker": {
             "colorbar": {
              "outlinewidth": 0,
              "ticks": ""
             }
            },
            "type": "scattercarpet"
           }
          ],
          "scattergeo": [
           {
            "marker": {
             "colorbar": {
              "outlinewidth": 0,
              "ticks": ""
             }
            },
            "type": "scattergeo"
           }
          ],
          "scattergl": [
           {
            "marker": {
             "colorbar": {
              "outlinewidth": 0,
              "ticks": ""
             }
            },
            "type": "scattergl"
           }
          ],
          "scattermapbox": [
           {
            "marker": {
             "colorbar": {
              "outlinewidth": 0,
              "ticks": ""
             }
            },
            "type": "scattermapbox"
           }
          ],
          "scatterpolar": [
           {
            "marker": {
             "colorbar": {
              "outlinewidth": 0,
              "ticks": ""
             }
            },
            "type": "scatterpolar"
           }
          ],
          "scatterpolargl": [
           {
            "marker": {
             "colorbar": {
              "outlinewidth": 0,
              "ticks": ""
             }
            },
            "type": "scatterpolargl"
           }
          ],
          "scatterternary": [
           {
            "marker": {
             "colorbar": {
              "outlinewidth": 0,
              "ticks": ""
             }
            },
            "type": "scatterternary"
           }
          ],
          "surface": [
           {
            "colorbar": {
             "outlinewidth": 0,
             "ticks": ""
            },
            "colorscale": [
             [
              0,
              "#0d0887"
             ],
             [
              0.1111111111111111,
              "#46039f"
             ],
             [
              0.2222222222222222,
              "#7201a8"
             ],
             [
              0.3333333333333333,
              "#9c179e"
             ],
             [
              0.4444444444444444,
              "#bd3786"
             ],
             [
              0.5555555555555556,
              "#d8576b"
             ],
             [
              0.6666666666666666,
              "#ed7953"
             ],
             [
              0.7777777777777778,
              "#fb9f3a"
             ],
             [
              0.8888888888888888,
              "#fdca26"
             ],
             [
              1,
              "#f0f921"
             ]
            ],
            "type": "surface"
           }
          ],
          "table": [
           {
            "cells": {
             "fill": {
              "color": "#EBF0F8"
             },
             "line": {
              "color": "white"
             }
            },
            "header": {
             "fill": {
              "color": "#C8D4E3"
             },
             "line": {
              "color": "white"
             }
            },
            "type": "table"
           }
          ]
         },
         "layout": {
          "annotationdefaults": {
           "arrowcolor": "#2a3f5f",
           "arrowhead": 0,
           "arrowwidth": 1
          },
          "autotypenumbers": "strict",
          "coloraxis": {
           "colorbar": {
            "outlinewidth": 0,
            "ticks": ""
           }
          },
          "colorscale": {
           "diverging": [
            [
             0,
             "#8e0152"
            ],
            [
             0.1,
             "#c51b7d"
            ],
            [
             0.2,
             "#de77ae"
            ],
            [
             0.3,
             "#f1b6da"
            ],
            [
             0.4,
             "#fde0ef"
            ],
            [
             0.5,
             "#f7f7f7"
            ],
            [
             0.6,
             "#e6f5d0"
            ],
            [
             0.7,
             "#b8e186"
            ],
            [
             0.8,
             "#7fbc41"
            ],
            [
             0.9,
             "#4d9221"
            ],
            [
             1,
             "#276419"
            ]
           ],
           "sequential": [
            [
             0,
             "#0d0887"
            ],
            [
             0.1111111111111111,
             "#46039f"
            ],
            [
             0.2222222222222222,
             "#7201a8"
            ],
            [
             0.3333333333333333,
             "#9c179e"
            ],
            [
             0.4444444444444444,
             "#bd3786"
            ],
            [
             0.5555555555555556,
             "#d8576b"
            ],
            [
             0.6666666666666666,
             "#ed7953"
            ],
            [
             0.7777777777777778,
             "#fb9f3a"
            ],
            [
             0.8888888888888888,
             "#fdca26"
            ],
            [
             1,
             "#f0f921"
            ]
           ],
           "sequentialminus": [
            [
             0,
             "#0d0887"
            ],
            [
             0.1111111111111111,
             "#46039f"
            ],
            [
             0.2222222222222222,
             "#7201a8"
            ],
            [
             0.3333333333333333,
             "#9c179e"
            ],
            [
             0.4444444444444444,
             "#bd3786"
            ],
            [
             0.5555555555555556,
             "#d8576b"
            ],
            [
             0.6666666666666666,
             "#ed7953"
            ],
            [
             0.7777777777777778,
             "#fb9f3a"
            ],
            [
             0.8888888888888888,
             "#fdca26"
            ],
            [
             1,
             "#f0f921"
            ]
           ]
          },
          "colorway": [
           "#636efa",
           "#EF553B",
           "#00cc96",
           "#ab63fa",
           "#FFA15A",
           "#19d3f3",
           "#FF6692",
           "#B6E880",
           "#FF97FF",
           "#FECB52"
          ],
          "font": {
           "color": "#2a3f5f"
          },
          "geo": {
           "bgcolor": "white",
           "lakecolor": "white",
           "landcolor": "#E5ECF6",
           "showlakes": true,
           "showland": true,
           "subunitcolor": "white"
          },
          "hoverlabel": {
           "align": "left"
          },
          "hovermode": "closest",
          "mapbox": {
           "style": "light"
          },
          "paper_bgcolor": "white",
          "plot_bgcolor": "#E5ECF6",
          "polar": {
           "angularaxis": {
            "gridcolor": "white",
            "linecolor": "white",
            "ticks": ""
           },
           "bgcolor": "#E5ECF6",
           "radialaxis": {
            "gridcolor": "white",
            "linecolor": "white",
            "ticks": ""
           }
          },
          "scene": {
           "xaxis": {
            "backgroundcolor": "#E5ECF6",
            "gridcolor": "white",
            "gridwidth": 2,
            "linecolor": "white",
            "showbackground": true,
            "ticks": "",
            "zerolinecolor": "white"
           },
           "yaxis": {
            "backgroundcolor": "#E5ECF6",
            "gridcolor": "white",
            "gridwidth": 2,
            "linecolor": "white",
            "showbackground": true,
            "ticks": "",
            "zerolinecolor": "white"
           },
           "zaxis": {
            "backgroundcolor": "#E5ECF6",
            "gridcolor": "white",
            "gridwidth": 2,
            "linecolor": "white",
            "showbackground": true,
            "ticks": "",
            "zerolinecolor": "white"
           }
          },
          "shapedefaults": {
           "line": {
            "color": "#2a3f5f"
           }
          },
          "ternary": {
           "aaxis": {
            "gridcolor": "white",
            "linecolor": "white",
            "ticks": ""
           },
           "baxis": {
            "gridcolor": "white",
            "linecolor": "white",
            "ticks": ""
           },
           "bgcolor": "#E5ECF6",
           "caxis": {
            "gridcolor": "white",
            "linecolor": "white",
            "ticks": ""
           }
          },
          "title": {
           "x": 0.05
          },
          "xaxis": {
           "automargin": true,
           "gridcolor": "white",
           "linecolor": "white",
           "ticks": "",
           "title": {
            "standoff": 15
           },
           "zerolinecolor": "white",
           "zerolinewidth": 2
          },
          "yaxis": {
           "automargin": true,
           "gridcolor": "white",
           "linecolor": "white",
           "ticks": "",
           "title": {
            "standoff": 15
           },
           "zerolinecolor": "white",
           "zerolinewidth": 2
          }
         }
        },
        "title": {
         "text": "CPU/GPU usage for MLX model inference"
        },
        "width": 800,
        "xaxis": {
         "anchor": "y",
         "domain": [
          0,
          1
         ],
         "matches": "x2",
         "showticklabels": false
        },
        "xaxis2": {
         "anchor": "y2",
         "domain": [
          0,
          1
         ],
         "title": {
          "text": "Time (seconds)"
         }
        },
        "yaxis": {
         "anchor": "x",
         "domain": [
          0.575,
          1
         ],
         "range": [
          0,
          100
         ]
        },
        "yaxis2": {
         "anchor": "x2",
         "domain": [
          0,
          0.425
         ]
        }
       }
      }
     },
     "metadata": {},
     "output_type": "display_data"
    }
   ],
   "source": [
    "import plotly.graph_objects as go\n",
    "from plotly.subplots import make_subplots\n",
    "\n",
    "\n",
    "orig_df = df.copy()\n",
    "df = orig_df[:90]\n",
    "\n",
    "# Create a figure with two subplots\n",
    "fig = make_subplots(rows=2, cols=1, shared_xaxes=True)\n",
    "\n",
    "# Add traces\n",
    "fig.add_trace(go.Scatter(x=df.index, y=df['P-Cluster_active'], mode='lines', name='CPU P-Cluster %'), row=1, col=1)\n",
    "fig.add_trace(go.Scatter(x=df.index, y=df['E-Cluster_active'], mode='lines', name='CPU E-Cluster %'), row=1, col=1)\n",
    "fig.add_trace(go.Scatter(x=df.index, y=df.GPU_active, mode='lines', name='Active GPU %'), row=1, col=1)\n",
    "fig.add_trace(go.Scatter(x=df.index, y=df.GPU_freq_MHz, mode='lines', name='GPU freq (MHz)'), row=2, col=1)\n",
    "\n",
    "# Update layout if needed (titles, axis labels etc.)\n",
    "# fig.update_layout(height=400, width=800, title_text=\"CPU/GPU usage for CPU-based torch model inference\")\n",
    "fig.update_layout(height=400, width=800, title_text=\"CPU/GPU usage for MLX model inference\")\n",
    "fig.update_xaxes(title_text=\"Time (seconds)\", row=2, col=1)  # Update only the bottom x-axis\n",
    "\n",
    "fig.update_yaxes(range=[0, 100], row=1, col=1)\n",
    "\n",
    "# Show the figure\n",
    "fig.show()\n",
    "\n"
   ]
  }
 ],
 "metadata": {
  "kernelspec": {
   "display_name": ".venv",
   "language": "python",
   "name": "python3"
  },
  "language_info": {
   "codemirror_mode": {
    "name": "ipython",
    "version": 3
   },
   "file_extension": ".py",
   "mimetype": "text/x-python",
   "name": "python",
   "nbconvert_exporter": "python",
   "pygments_lexer": "ipython3",
   "version": "3.11.5"
  }
 },
 "nbformat": 4,
 "nbformat_minor": 2
}
