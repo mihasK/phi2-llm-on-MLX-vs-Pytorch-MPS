{
 "cells": [
  {
   "cell_type": "code",
   "execution_count": 2,
   "metadata": {},
   "outputs": [
    {
     "name": "stdout",
     "output_type": "stream",
     "text": [
      "mps 15.850540750001528\n"
     ]
    }
   ],
   "source": [
    "import timeit\n",
    "import torch\n",
    "b_mps = torch.rand((10000, 10000), device='mps')\n",
    "\n",
    "print('mps', timeit.timeit(lambda: b_mps @ b_mps, number=100))"
   ]
  }
 ],
 "metadata": {
  "kernelspec": {
   "display_name": ".venv",
   "language": "python",
   "name": "python3"
  },
  "language_info": {
   "codemirror_mode": {
    "name": "ipython",
    "version": 3
   },
   "file_extension": ".py",
   "mimetype": "text/x-python",
   "name": "python",
   "nbconvert_exporter": "python",
   "pygments_lexer": "ipython3",
   "version": "3.11.5"
  }
 },
 "nbformat": 4,
 "nbformat_minor": 2
}
