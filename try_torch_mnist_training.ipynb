{
 "cells": [
  {
   "cell_type": "code",
   "execution_count": 1,
   "metadata": {},
   "outputs": [],
   "source": [
    "%load_ext autoreload\n",
    "%autoreload 2\n",
    "\n",
    "# %load_ext memory_profiler\n"
   ]
  },
  {
   "cell_type": "code",
   "execution_count": 2,
   "metadata": {},
   "outputs": [
    {
     "name": "stdout",
     "output_type": "stream",
     "text": [
      "tensor([1.], device='mps:0')\n"
     ]
    }
   ],
   "source": [
    "# Check MPS device available\n",
    "import torch\n",
    "if torch.backends.mps.is_available():\n",
    "    mps_device = torch.device(\"mps\")\n",
    "    x = torch.ones(1, device=mps_device)\n",
    "    print (x)\n",
    "else:\n",
    "    print (\"MPS device not found.\")"
   ]
  },
  {
   "cell_type": "code",
   "execution_count": 3,
   "metadata": {},
   "outputs": [],
   "source": [
    "torch.set_default_device(mps_device)"
   ]
  },
  {
   "cell_type": "code",
   "execution_count": 4,
   "metadata": {},
   "outputs": [
    {
     "name": "stdout",
     "output_type": "stream",
     "text": [
      "Downloading http://yann.lecun.com/exdb/mnist/train-images-idx3-ubyte.gz\n",
      "Downloading http://yann.lecun.com/exdb/mnist/train-images-idx3-ubyte.gz to ./data/MNIST/raw/train-images-idx3-ubyte.gz\n"
     ]
    },
    {
     "name": "stderr",
     "output_type": "stream",
     "text": [
      "100%|██████████| 9912422/9912422 [00:00<00:00, 21550338.94it/s]\n"
     ]
    },
    {
     "name": "stdout",
     "output_type": "stream",
     "text": [
      "Extracting ./data/MNIST/raw/train-images-idx3-ubyte.gz to ./data/MNIST/raw\n",
      "\n",
      "Downloading http://yann.lecun.com/exdb/mnist/train-labels-idx1-ubyte.gz\n",
      "Downloading http://yann.lecun.com/exdb/mnist/train-labels-idx1-ubyte.gz to ./data/MNIST/raw/train-labels-idx1-ubyte.gz\n"
     ]
    },
    {
     "name": "stderr",
     "output_type": "stream",
     "text": [
      "100%|██████████| 28881/28881 [00:00<00:00, 52507886.36it/s]\n"
     ]
    },
    {
     "name": "stdout",
     "output_type": "stream",
     "text": [
      "Extracting ./data/MNIST/raw/train-labels-idx1-ubyte.gz to ./data/MNIST/raw\n",
      "\n",
      "Downloading http://yann.lecun.com/exdb/mnist/t10k-images-idx3-ubyte.gz\n",
      "Downloading http://yann.lecun.com/exdb/mnist/t10k-images-idx3-ubyte.gz to ./data/MNIST/raw/t10k-images-idx3-ubyte.gz\n"
     ]
    },
    {
     "name": "stderr",
     "output_type": "stream",
     "text": [
      "100%|██████████| 1648877/1648877 [00:00<00:00, 10621678.02it/s]\n"
     ]
    },
    {
     "name": "stdout",
     "output_type": "stream",
     "text": [
      "Extracting ./data/MNIST/raw/t10k-images-idx3-ubyte.gz to ./data/MNIST/raw\n",
      "\n",
      "Downloading http://yann.lecun.com/exdb/mnist/t10k-labels-idx1-ubyte.gz\n",
      "Downloading http://yann.lecun.com/exdb/mnist/t10k-labels-idx1-ubyte.gz to ./data/MNIST/raw/t10k-labels-idx1-ubyte.gz\n"
     ]
    },
    {
     "name": "stderr",
     "output_type": "stream",
     "text": [
      "100%|██████████| 4542/4542 [00:00<00:00, 17461529.58it/s]"
     ]
    },
    {
     "name": "stdout",
     "output_type": "stream",
     "text": [
      "Extracting ./data/MNIST/raw/t10k-labels-idx1-ubyte.gz to ./data/MNIST/raw\n",
      "\n"
     ]
    },
    {
     "name": "stderr",
     "output_type": "stream",
     "text": [
      "\n"
     ]
    }
   ],
   "source": [
    "from torchvision import datasets, transforms\n",
    "\n",
    "    \n",
    "transform=transforms.Compose([\n",
    "    transforms.ToTensor(),\n",
    "    transforms.Normalize((0.1307,), (0.3081,))\n",
    "    ])\n",
    "dataset1 = datasets.MNIST('./data', train=True, download=True,\n",
    "                    transform=transform)\n",
    "dataset2 = datasets.MNIST('./data', train=False,\n",
    "                    transform=transform)"
   ]
  },
  {
   "cell_type": "code",
   "execution_count": 5,
   "metadata": {},
   "outputs": [],
   "source": [
    "import torch.nn as nn\n",
    "import torch.nn.functional as F\n",
    "import torch.optim as optim\n",
    "from torchvision import datasets, transforms\n",
    "from torch.optim.lr_scheduler import StepLR\n",
    "\n",
    "class Net(nn.Module):\n",
    "    def __init__(self):\n",
    "        super(Net, self).__init__()\n",
    "        self.conv1 = nn.Conv2d(1, 32, 3, 1)\n",
    "        self.conv2 = nn.Conv2d(32, 64, 3, 1)\n",
    "        self.dropout1 = nn.Dropout(0.25)\n",
    "        self.dropout2 = nn.Dropout(0.5)\n",
    "        self.fc1 = nn.Linear(9216, 128)\n",
    "        self.fc2 = nn.Linear(128, 10)\n",
    "\n",
    "    def forward(self, x):\n",
    "        x = self.conv1(x)\n",
    "        x = F.relu(x)\n",
    "        x = self.conv2(x)\n",
    "        x = F.relu(x)\n",
    "        x = F.max_pool2d(x, 2)\n",
    "        x = self.dropout1(x)\n",
    "        x = torch.flatten(x, 1)\n",
    "        x = self.fc1(x)\n",
    "        x = F.relu(x)\n",
    "        x = self.dropout2(x)\n",
    "        x = self.fc2(x)\n",
    "        output = F.log_softmax(x, dim=1)\n",
    "        return output\n",
    "    \n",
    "def train(model, device, train_loader, optimizer, epoch, log_interval):\n",
    "    model.train()\n",
    "    for batch_idx, (data, target) in enumerate(train_loader):\n",
    "        data, target = data.to(device), target.to(device)\n",
    "        optimizer.zero_grad()\n",
    "        output = model(data)\n",
    "        loss = F.nll_loss(output, target)\n",
    "        loss.backward()\n",
    "        optimizer.step()\n",
    "        if batch_idx % log_interval == 0:\n",
    "            print('Train Epoch: {} [{}/{} ({:.0f}%)]\\tLoss: {:.6f}'.format(\n",
    "                epoch, batch_idx * len(data), len(train_loader.dataset),\n",
    "                100. * batch_idx / len(train_loader), loss.item()))\n",
    "            \n",
    "def test(model, device, test_loader):\n",
    "    model.eval()\n",
    "    test_loss = 0\n",
    "    correct = 0\n",
    "    with torch.no_grad():\n",
    "        for data, target in test_loader:\n",
    "            data, target = data.to(device), target.to(device)\n",
    "            output = model(data)\n",
    "            test_loss += F.nll_loss(output, target, reduction='sum').item()  # sum up batch loss\n",
    "            pred = output.argmax(dim=1, keepdim=True)  # get the index of the max log-probability\n",
    "            correct += pred.eq(target.view_as(pred)).sum().item()\n",
    "\n",
    "    test_loss /= len(test_loader.dataset)\n",
    "\n",
    "    print('\\nTest set: Average loss: {:.4f}, Accuracy: {}/{} ({:.0f}%)\\n'.format(\n",
    "        test_loss, correct, len(test_loader.dataset),\n",
    "        100. * correct / len(test_loader.dataset)))\n",
    "\n"
   ]
  },
  {
   "cell_type": "code",
   "execution_count": 7,
   "metadata": {
    "tags": [
     "parameters"
    ]
   },
   "outputs": [],
   "source": [
    "EPOCHS = 1\n",
    "GAMMA = 0.7\n",
    "LR = 1.0\n",
    "log_interval = 100\n",
    "TRAIN_BATCH_SIZE = 8\n"
   ]
  },
  {
   "cell_type": "code",
   "execution_count": 8,
   "metadata": {},
   "outputs": [],
   "source": [
    "train_loader = torch.utils.data.DataLoader(dataset1, batch_size=TRAIN_BATCH_SIZE)\n",
    "test_loader = torch.utils.data.DataLoader(dataset2, batch_size=1000)"
   ]
  },
  {
   "cell_type": "code",
   "execution_count": 9,
   "metadata": {},
   "outputs": [
    {
     "name": "stdout",
     "output_type": "stream",
     "text": [
      "EPOCHS:  1\n",
      "TRAIN_BATCH_SIZE:  8\n"
     ]
    }
   ],
   "source": [
    "print('EPOCHS: ', EPOCHS)\n",
    "print('TRAIN_BATCH_SIZE: ', TRAIN_BATCH_SIZE)"
   ]
  },
  {
   "cell_type": "code",
   "execution_count": 21,
   "metadata": {},
   "outputs": [
    {
     "name": "stdout",
     "output_type": "stream",
     "text": [
      "Train Epoch: 1 [0/60000 (0%)]\tLoss: 2.307632\n",
      "Train Epoch: 1 [800/60000 (1%)]\tLoss: 0.387665\n",
      "Train Epoch: 1 [1600/60000 (3%)]\tLoss: 0.581059\n",
      "Train Epoch: 1 [2400/60000 (4%)]\tLoss: 0.376538\n",
      "Train Epoch: 1 [3200/60000 (5%)]\tLoss: 0.559387\n",
      "Train Epoch: 1 [4000/60000 (7%)]\tLoss: 0.265974\n",
      "Train Epoch: 1 [4800/60000 (8%)]\tLoss: 0.350856\n",
      "Train Epoch: 1 [5600/60000 (9%)]\tLoss: 0.493957\n",
      "Train Epoch: 1 [6400/60000 (11%)]\tLoss: 0.025418\n",
      "Train Epoch: 1 [7200/60000 (12%)]\tLoss: 0.257634\n",
      "Train Epoch: 1 [8000/60000 (13%)]\tLoss: 0.031638\n",
      "Train Epoch: 1 [8800/60000 (15%)]\tLoss: 0.002474\n",
      "Train Epoch: 1 [9600/60000 (16%)]\tLoss: 0.070965\n",
      "Train Epoch: 1 [10400/60000 (17%)]\tLoss: 0.001258\n",
      "Train Epoch: 1 [11200/60000 (19%)]\tLoss: 0.337892\n",
      "Train Epoch: 1 [12000/60000 (20%)]\tLoss: 0.005097\n",
      "Train Epoch: 1 [12800/60000 (21%)]\tLoss: 0.014632\n",
      "Train Epoch: 1 [13600/60000 (23%)]\tLoss: 0.004159\n",
      "Train Epoch: 1 [14400/60000 (24%)]\tLoss: 0.420767\n",
      "Train Epoch: 1 [15200/60000 (25%)]\tLoss: 0.015468\n",
      "Train Epoch: 1 [16000/60000 (27%)]\tLoss: 0.011191\n",
      "Train Epoch: 1 [16800/60000 (28%)]\tLoss: 0.008151\n",
      "Train Epoch: 1 [17600/60000 (29%)]\tLoss: 0.053083\n",
      "Train Epoch: 1 [18400/60000 (31%)]\tLoss: 0.072145\n",
      "Train Epoch: 1 [19200/60000 (32%)]\tLoss: 0.000132\n",
      "Train Epoch: 1 [20000/60000 (33%)]\tLoss: 0.020061\n",
      "Train Epoch: 1 [20800/60000 (35%)]\tLoss: 0.000324\n",
      "Train Epoch: 1 [21600/60000 (36%)]\tLoss: 0.690765\n",
      "Train Epoch: 1 [22400/60000 (37%)]\tLoss: 0.125076\n",
      "Train Epoch: 1 [23200/60000 (39%)]\tLoss: 0.199069\n",
      "Train Epoch: 1 [24000/60000 (40%)]\tLoss: 0.017299\n",
      "Train Epoch: 1 [24800/60000 (41%)]\tLoss: 0.010206\n",
      "Train Epoch: 1 [25600/60000 (43%)]\tLoss: 0.016915\n",
      "Train Epoch: 1 [26400/60000 (44%)]\tLoss: 0.447452\n",
      "Train Epoch: 1 [27200/60000 (45%)]\tLoss: 0.026447\n",
      "Train Epoch: 1 [28000/60000 (47%)]\tLoss: 0.002536\n",
      "Train Epoch: 1 [28800/60000 (48%)]\tLoss: 0.046475\n",
      "Train Epoch: 1 [29600/60000 (49%)]\tLoss: 0.000424\n",
      "Train Epoch: 1 [30400/60000 (51%)]\tLoss: 0.012315\n",
      "Train Epoch: 1 [31200/60000 (52%)]\tLoss: 0.057745\n",
      "Train Epoch: 1 [32000/60000 (53%)]\tLoss: 0.009738\n",
      "Train Epoch: 1 [32800/60000 (55%)]\tLoss: 0.002617\n",
      "Train Epoch: 1 [33600/60000 (56%)]\tLoss: 0.014059\n",
      "Train Epoch: 1 [34400/60000 (57%)]\tLoss: 1.186239\n",
      "Train Epoch: 1 [35200/60000 (59%)]\tLoss: 0.255740\n",
      "Train Epoch: 1 [36000/60000 (60%)]\tLoss: 0.116453\n",
      "Train Epoch: 1 [36800/60000 (61%)]\tLoss: 0.000922\n",
      "Train Epoch: 1 [37600/60000 (63%)]\tLoss: 0.212762\n",
      "Train Epoch: 1 [38400/60000 (64%)]\tLoss: 0.001596\n",
      "Train Epoch: 1 [39200/60000 (65%)]\tLoss: 0.014169\n",
      "Train Epoch: 1 [40000/60000 (67%)]\tLoss: 0.000743\n",
      "Train Epoch: 1 [40800/60000 (68%)]\tLoss: 0.067137\n",
      "Train Epoch: 1 [41600/60000 (69%)]\tLoss: 0.078511\n",
      "Train Epoch: 1 [42400/60000 (71%)]\tLoss: 0.000251\n",
      "Train Epoch: 1 [43200/60000 (72%)]\tLoss: 0.120301\n",
      "Train Epoch: 1 [44000/60000 (73%)]\tLoss: 0.004009\n",
      "Train Epoch: 1 [44800/60000 (75%)]\tLoss: 0.032841\n",
      "Train Epoch: 1 [45600/60000 (76%)]\tLoss: 0.132456\n",
      "Train Epoch: 1 [46400/60000 (77%)]\tLoss: 0.532353\n",
      "Train Epoch: 1 [47200/60000 (79%)]\tLoss: 0.001645\n",
      "Train Epoch: 1 [48000/60000 (80%)]\tLoss: 0.058930\n",
      "Train Epoch: 1 [48800/60000 (81%)]\tLoss: 0.050390\n",
      "Train Epoch: 1 [49600/60000 (83%)]\tLoss: 0.030609\n",
      "Train Epoch: 1 [50400/60000 (84%)]\tLoss: 0.225903\n",
      "Train Epoch: 1 [51200/60000 (85%)]\tLoss: 0.001031\n",
      "Train Epoch: 1 [52000/60000 (87%)]\tLoss: 0.033117\n",
      "Train Epoch: 1 [52800/60000 (88%)]\tLoss: 0.965159\n",
      "Train Epoch: 1 [53600/60000 (89%)]\tLoss: 0.000461\n",
      "Train Epoch: 1 [54400/60000 (91%)]\tLoss: 0.006347\n",
      "Train Epoch: 1 [55200/60000 (92%)]\tLoss: 0.022288\n",
      "Train Epoch: 1 [56000/60000 (93%)]\tLoss: 0.004468\n",
      "Train Epoch: 1 [56800/60000 (95%)]\tLoss: 1.381151\n",
      "Train Epoch: 1 [57600/60000 (96%)]\tLoss: 0.002244\n",
      "Train Epoch: 1 [58400/60000 (97%)]\tLoss: 0.000654\n",
      "Train Epoch: 1 [59200/60000 (99%)]\tLoss: 0.000282\n",
      "\n",
      "Test set: Average loss: 0.0536, Accuracy: 9831/10000 (98%)\n",
      "\n"
     ]
    }
   ],
   "source": [
    "model = Net().to(mps_device)\n",
    "\n",
    "optimizer = optim.Adadelta(model.parameters(), lr=1)\n",
    "\n",
    "scheduler = StepLR(optimizer, step_size=1, gamma=0.7)\n",
    "for epoch in range(1, EPOCHS + 1):\n",
    "    train(model, mps_device, train_loader, optimizer, epoch, log_interval)\n",
    "    test(model, mps_device, test_loader)\n",
    "    scheduler.step()"
   ]
  },
  {
   "cell_type": "code",
   "execution_count": null,
   "metadata": {},
   "outputs": [],
   "source": []
  }
 ],
 "metadata": {
  "kernelspec": {
   "display_name": ".venv",
   "language": "python",
   "name": "python3"
  },
  "language_info": {
   "codemirror_mode": {
    "name": "ipython",
    "version": 3
   },
   "file_extension": ".py",
   "mimetype": "text/x-python",
   "name": "python",
   "nbconvert_exporter": "python",
   "pygments_lexer": "ipython3",
   "version": "3.11.5"
  }
 },
 "nbformat": 4,
 "nbformat_minor": 2
}
