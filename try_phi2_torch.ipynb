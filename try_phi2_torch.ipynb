{
 "cells": [
  {
   "cell_type": "code",
   "execution_count": 1,
   "metadata": {},
   "outputs": [],
   "source": [
    "%load_ext autoreload\n",
    "%autoreload 2\n",
    "\n",
    "%load_ext memory_profiler\n",
    "\n"
   ]
  },
  {
   "cell_type": "code",
   "execution_count": 2,
   "metadata": {},
   "outputs": [
    {
     "name": "stdout",
     "output_type": "stream",
     "text": [
      "Python (GC) and MPS cache emptied\n",
      "######## Memory consumption:\n",
      "        MPS tensors    MPS Total    Process Memory\n",
      "------  -------------  -----------  ----------------\n",
      "Before  0              0            238\n",
      "After   0              0            238\n",
      "Diff    +0 MB          +0 MB        +0 MB\n"
     ]
    }
   ],
   "source": [
    "# Check current memory usage\n",
    "from utils import MPS_MemoryTracker\n",
    "\n",
    "with MPS_MemoryTracker():\n",
    "    pass # Some operation here"
   ]
  },
  {
   "cell_type": "markdown",
   "metadata": {},
   "source": [
    "# Check MPS device available"
   ]
  },
  {
   "cell_type": "code",
   "execution_count": 3,
   "metadata": {},
   "outputs": [
    {
     "name": "stdout",
     "output_type": "stream",
     "text": [
      "tensor([1.], device='mps:0')\n"
     ]
    }
   ],
   "source": [
    "import torch\n",
    "if torch.backends.mps.is_available():\n",
    "    mps_device = torch.device(\"mps\")\n",
    "    x = torch.ones(1, device=mps_device)\n",
    "    print (x)\n",
    "else:\n",
    "    print (\"MPS device not found.\")"
   ]
  },
  {
   "cell_type": "markdown",
   "metadata": {},
   "source": [
    "# Load model from HF"
   ]
  },
  {
   "cell_type": "code",
   "execution_count": 4,
   "metadata": {},
   "outputs": [],
   "source": [
    "from transformers import AutoModelForCausalLM, AutoTokenizer, GenerationMixin\n",
    "\n",
    "def get_cpu_model() -> GenerationMixin: \n",
    "    torch.set_default_device(\"cpu\")\n",
    "    return AutoModelForCausalLM.from_pretrained(\n",
    "        \"microsoft/phi-2\", torch_dtype=torch.float32, device_map=\"cpu\", trust_remote_code=True\n",
    "    )\n",
    "def get_mps_model() -> GenerationMixin: \n",
    "    torch.set_default_device(\"mps\")\n",
    "    return AutoModelForCausalLM.from_pretrained(\n",
    "        \"microsoft/phi-2\", torch_dtype='auto',#torch.float32, \n",
    "        device_map=\"mps\",\n",
    "        trust_remote_code=True\n",
    "    )"
   ]
  },
  {
   "cell_type": "code",
   "execution_count": 5,
   "metadata": {},
   "outputs": [
    {
     "name": "stdout",
     "output_type": "stream",
     "text": [
      "Python (GC) and MPS cache emptied\n"
     ]
    },
    {
     "data": {
      "application/vnd.jupyter.widget-view+json": {
       "model_id": "34467cb35d0d43c791ef88777e0742fb",
       "version_major": 2,
       "version_minor": 0
      },
      "text/plain": [
       "Loading checkpoint shards:   0%|          | 0/2 [00:00<?, ?it/s]"
      ]
     },
     "metadata": {},
     "output_type": "display_data"
    },
    {
     "name": "stdout",
     "output_type": "stream",
     "text": [
      "peak memory: 324.22 MiB, increment: 21.97 MiB\n",
      "Python (GC) and MPS cache emptied\n",
      "######## Memory consumption:\n",
      "        MPS tensors    MPS Total    Process Memory\n",
      "------  -------------  -----------  ----------------\n",
      "Before  0              9            302\n",
      "After   5572           6460         271\n",
      "Diff    +5572 MB       +6451 MB     -31 MB\n"
     ]
    }
   ],
   "source": [
    "if 'model' in locals():\n",
    "    del model # if you need to clean existing model from memory. But, doesn't work for MPS:(\n",
    "\n",
    "with MPS_MemoryTracker(clean_cache_before=True, clean_cache_after=True):\n",
    "    # model: GenerationMixin = get_cpu_model()    \n",
    "    %memit model: GenerationMixin = get_mps_model()"
   ]
  },
  {
   "cell_type": "code",
   "execution_count": 38,
   "metadata": {},
   "outputs": [],
   "source": [
    "# TODO: MPS doesn't release memory even after transferring model to cpu devide!?\n",
    "# model.cpu(); del model\n",
    "\n",
    "# So, only restarting process helps\n"
   ]
  },
  {
   "cell_type": "markdown",
   "metadata": {},
   "source": [
    "# Check precision used"
   ]
  },
  {
   "cell_type": "code",
   "execution_count": 6,
   "metadata": {},
   "outputs": [
    {
     "data": {
      "text/plain": [
       "torch.float16"
      ]
     },
     "execution_count": 6,
     "metadata": {},
     "output_type": "execute_result"
    }
   ],
   "source": [
    "model.config.torch_dtype"
   ]
  },
  {
   "cell_type": "code",
   "execution_count": 7,
   "metadata": {},
   "outputs": [],
   "source": [
    "for name, param in model.named_parameters():\n",
    "    assert param.dtype == torch.float16"
   ]
  },
  {
   "cell_type": "markdown",
   "metadata": {},
   "source": [
    "# Tokenize input"
   ]
  },
  {
   "cell_type": "code",
   "execution_count": 9,
   "metadata": {},
   "outputs": [],
   "source": [
    "# input_txt = \"\"\"\n",
    "# ## INPUT\n",
    "# Write a short poem about deep learning\n",
    "# ## Output\n",
    "# \"\"\"\n",
    "input_txt = 'What are the prime factors of 10?'\n"
   ]
  },
  {
   "cell_type": "code",
   "execution_count": 12,
   "metadata": {},
   "outputs": [
    {
     "name": "stderr",
     "output_type": "stream",
     "text": [
      "Special tokens have been added in the vocabulary, make sure the associated word embeddings are fine-tuned or trained.\n"
     ]
    },
    {
     "data": {
      "text/plain": [
       "{'input_ids': tensor([[2061,  389,  262, 6994, 5087,  286,  838,   30]], device='mps:0')}"
      ]
     },
     "execution_count": 12,
     "metadata": {},
     "output_type": "execute_result"
    }
   ],
   "source": [
    "tokenizer = AutoTokenizer.from_pretrained(\"microsoft/phi-2\", trust_remote_code=True)\n",
    "inputs = tokenizer(input_txt, return_tensors=\"pt\", return_attention_mask=False)\n",
    "inputs"
   ]
  },
  {
   "cell_type": "markdown",
   "metadata": {},
   "source": [
    "# Perform inference\n"
   ]
  },
  {
   "cell_type": "code",
   "execution_count": 16,
   "metadata": {},
   "outputs": [
    {
     "name": "stdout",
     "output_type": "stream",
     "text": [
      "Python (GC) and MPS cache emptied\n",
      "Python (GC) and MPS cache emptied\n",
      "######## Memory consumption:\n",
      "        MPS tensors    MPS Total    Process Memory\n",
      "------  -------------  -----------  ----------------\n",
      "Before  5572           6727         2789\n",
      "After   5572           6727         2800\n",
      "Diff    +0 MB          +0 MB        +11 MB\n",
      "CPU times: user 20.7 s, sys: 875 ms, total: 21.6 s\n",
      "Wall time: 20.6 s\n"
     ]
    }
   ],
   "source": [
    "%%time\n",
    "\n",
    "# In order to measure CPU/GPU usage, run powermetrics tracker during inference:\n",
    "# `sudo nice -n 10 powermetrics --samplers cpu_power,gpu_power,thermal -o powermetrics.txt -f plist -i 1000`\n",
    "# or `make track`\n",
    "\n",
    "with MPS_MemoryTracker(clean_cache_before=True, clean_cache_after=True):\n",
    "    outputs = model.generate(**inputs, max_length=200, )\n"
   ]
  },
  {
   "cell_type": "code",
   "execution_count": 14,
   "metadata": {},
   "outputs": [
    {
     "name": "stdout",
     "output_type": "stream",
     "text": [
      "What are the prime factors of 10?\n",
      "<|question|>Student: The prime factors of 10 are 2 and 5.\n",
      "<|question_end|>Tutor: That's correct! Now, let's find the prime factors of the denominator, which is 20.\n",
      "<|question|>Student: The prime factors of 20 are 2 and 5.\n",
      "<|question_end|>Tutor: Good job! Now, we need to find the common prime factors between the numerator and the denominator. What are they?\n",
      "<|question|>Student: The common prime factors are 2 and 5.\n",
      "<|question_end|>Tutor: Excellent! Now, we need to find the highest power of each common prime factor. What is the highest power of 2 in both the numerator and the denominator?\n",
      "<|question|>Student: The highest power of 2 is 1.\n",
      "<|question_end|>T\n"
     ]
    }
   ],
   "source": [
    "text = tokenizer.batch_decode(outputs)[0]\n",
    "print(text)\n"
   ]
  },
  {
   "cell_type": "markdown",
   "metadata": {},
   "source": [
    "## Measure time"
   ]
  },
  {
   "cell_type": "code",
   "execution_count": 15,
   "metadata": {},
   "outputs": [
    {
     "name": "stdout",
     "output_type": "stream",
     "text": [
      "20.9 s ± 229 ms per loop (mean ± std. dev. of 7 runs, 1 loop each)\n"
     ]
    }
   ],
   "source": [
    "%timeit model.generate(**inputs, max_length=200, )"
   ]
  }
 ],
 "metadata": {
  "kernelspec": {
   "display_name": ".venv",
   "language": "python",
   "name": "python3"
  },
  "language_info": {
   "codemirror_mode": {
    "name": "ipython",
    "version": 3
   },
   "file_extension": ".py",
   "mimetype": "text/x-python",
   "name": "python",
   "nbconvert_exporter": "python",
   "pygments_lexer": "ipython3",
   "version": "3.11.5"
  }
 },
 "nbformat": 4,
 "nbformat_minor": 2
}
